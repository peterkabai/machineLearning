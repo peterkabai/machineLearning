{
 "cells": [
  {
   "cell_type": "markdown",
   "metadata": {
    "colab_type": "text",
    "id": "6YYTrI3ShX6O"
   },
   "source": [
    "# Cool Markup Styling\n",
    "`# Cool Markup Styling`\n",
    "## Some of This Styling Doesn't Show on GitHub\n",
    "`## Some of This Styling Doesn't Show on GitHub`\n",
    "### Open in JupyterLab to See All the Styling\n",
    "`### Open in JupyterLab to See All the Styling`\n",
    "#### Smaller Heading\n",
    "`#### Smaller Heading`\n",
    "##### Even Smaller Heading\n",
    "`##### Even Smaller Heading`\n",
    "###### Very Small Heading\n",
    "`###### Very Small Heading`"
   ]
  },
  {
   "cell_type": "markdown",
   "metadata": {},
   "source": [
    "### Basic Styling \n",
    "*Italic*  \n",
    "`*Italic*` \n",
    " \n",
    "**Bold**  \n",
    "`**Bold**` "
   ]
  },
  {
   "cell_type": "markdown",
   "metadata": {},
   "source": [
    "### Images and Links\n",
    " \n",
    "![python logo](https://www.python.org/static/opengraph-icon-200x200.png)  \n",
    "`![python logo](https://www.python.org/static/opengraph-icon-200x200.png)`  \n",
    "\n",
    "[www.python.org](https://https://www.python.org)  \n",
    "`[www.python.org](https://https://www.python.org)`  "
   ]
  },
  {
   "cell_type": "markdown",
   "metadata": {},
   "source": [
    "### Colored Text  \n",
    "<span style=\"color:red\">Red</span>  \n",
    "`<span style=\"color:red\">Red</span>`   \n",
    "<span style=\"color:blue\">Blue</span>  \n",
    "`<span style=\"color:blue\">Blue</span>`  \n",
    "<span style=\"color:green\">Green</span>  \n",
    "`<span style=\"color:green\">Green</span>`   \n",
    "<span style=\"color:yellow\">Yellow</span>  \n",
    "`<span style=\"color:yellow\">Yellow</span>`   \n",
    "<span style=\"color:violet\">Violet</span>  \n",
    "`<span style=\"color:violet\">Violet</span>`  \n",
    " \n",
    "<span style=\"background-color:black; color:white\">&nbsp;Text with background&nbsp;</span>  \n",
    "`<span style=\"background-color:black; color:white\">&nbsp;Text with background&nbsp;</span>`  "
   ]
  },
  {
   "cell_type": "markdown",
   "metadata": {},
   "source": [
    "### Code Highlighting\n",
    "```javascript\n",
    "var s = \"JavaScript\";\n",
    "var three = 1 + 2;\n",
    "```\n",
    "````\n",
    "```javascript\n",
    "var s = \"JavaScript\";\n",
    "var three = 1 + 2;\n",
    "```\n",
    "````\n",
    "```python\n",
    "s = \"Python\"  \n",
    "three = 1 + 2     \n",
    "```\n",
    "````\n",
    "```python\n",
    "s = \"Python\";\n",
    "three = 1 + 2;\n",
    "```\n",
    "````"
   ]
  },
  {
   "cell_type": "markdown",
   "metadata": {},
   "source": [
    "### Tables\n",
    "\n",
    "Table | With | Content\n",
    "--- | --- | ---\n",
    "One | Two | Three\n",
    "1 | 2 | 3\n",
    "Uno | Dos | Tres\n",
    "Egy | Kettő | Három\n",
    "\n",
    "```\n",
    "Table | With  | Content\n",
    "---   | ---   | ---\n",
    "One   | Two   | Three\n",
    "1     | 2     | 3\n",
    "Uno   | Dos   | Tres\n",
    "Egy   | Kettő | Három\n",
    "```"
   ]
  },
  {
   "cell_type": "markdown",
   "metadata": {},
   "source": [
    "### Quotes\n",
    "Use the > symbol to indent and create a quote:\n",
    "\n",
    "> The quick brown fox jumps over the lazy dog. The quick brown fox jumps over the lazy dog. The quick brown fox jumps over the lazy dog. The quick brown fox jumps over the lazy dog. The quick brown fox jumps over the lazy dog.\n",
    "\n",
    "`> The quick brown fox jumps over the lazy dog. The quick brown fox jumps over the lazy dog. The quick brown fox jumps over the lazy dog. The quick brown fox jumps over the lazy dog. The quick brown fox jumps over the lazy dog.`"
   ]
  },
  {
   "cell_type": "code",
   "execution_count": null,
   "metadata": {},
   "outputs": [],
   "source": []
  }
 ],
 "metadata": {
  "accelerator": "GPU",
  "colab": {
   "collapsed_sections": [],
   "name": "project2.ipynb",
   "provenance": [],
   "version": "0.3.2"
  },
  "kernelspec": {
   "display_name": "Python 3",
   "language": "python",
   "name": "python3"
  },
  "language_info": {
   "codemirror_mode": {
    "name": "ipython",
    "version": 3
   },
   "file_extension": ".py",
   "mimetype": "text/x-python",
   "name": "python",
   "nbconvert_exporter": "python",
   "pygments_lexer": "ipython3",
   "version": "3.6.6"
  }
 },
 "nbformat": 4,
 "nbformat_minor": 2
}
